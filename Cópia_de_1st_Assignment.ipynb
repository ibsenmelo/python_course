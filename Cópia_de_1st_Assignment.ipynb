{
  "nbformat": 4,
  "nbformat_minor": 0,
  "metadata": {
    "kernelspec": {
      "display_name": "Python 3",
      "language": "python",
      "name": "python3"
    },
    "language_info": {
      "codemirror_mode": {
        "name": "ipython",
        "version": 3
      },
      "file_extension": ".py",
      "mimetype": "text/x-python",
      "name": "python",
      "nbconvert_exporter": "python",
      "pygments_lexer": "ipython3",
      "version": "3.7.6"
    },
    "colab": {
      "name": "Cópia de Cópia de 1st_Assignment.ipynb",
      "provenance": [],
      "collapsed_sections": [],
      "include_colab_link": true
    }
  },
  "cells": [
    {
      "cell_type": "markdown",
      "metadata": {
        "id": "view-in-github",
        "colab_type": "text"
      },
      "source": [
        "<a href=\"https://colab.research.google.com/github/ibsenmelo/python_course/blob/master/C%C3%B3pia_de_1st_Assignment.ipynb\" target=\"_parent\"><img src=\"https://colab.research.google.com/assets/colab-badge.svg\" alt=\"Open In Colab\"/></a>"
      ]
    },
    {
      "cell_type": "markdown",
      "metadata": {
        "id": "05cYjJ1gjbjP",
        "colab_type": "text"
      },
      "source": [
        "## First list of exercises\n",
        "\n",
        "#### Ordered from the easiest to the \"hardest\""
      ]
    },
    {
      "cell_type": "markdown",
      "metadata": {
        "id": "9eUCxEbYjbjQ",
        "colab_type": "text"
      },
      "source": [
        "1) Write a function that takes an integer minutes and converts it to seconds. <font color='green'>(EASY)</font>"
      ]
    },
    {
      "cell_type": "code",
      "metadata": {
        "id": "nRQ5rAymjbjR",
        "colab_type": "code",
        "colab": {}
      },
      "source": [
        "def segundos(minuto):\n",
        "  return minuto*60"
      ],
      "execution_count": null,
      "outputs": []
    },
    {
      "cell_type": "code",
      "metadata": {
        "id": "KoNLuIH8jtvo",
        "colab_type": "code",
        "colab": {
          "base_uri": "https://localhost:8080/",
          "height": 34
        },
        "outputId": "0737c711-cbcd-4436-93df-079ddf74942d"
      },
      "source": [
        "segundos(3)"
      ],
      "execution_count": null,
      "outputs": [
        {
          "output_type": "execute_result",
          "data": {
            "text/plain": [
              "180"
            ]
          },
          "metadata": {
            "tags": []
          },
          "execution_count": 5
        }
      ]
    },
    {
      "cell_type": "markdown",
      "metadata": {
        "id": "upL51pvjjbjV",
        "colab_type": "text"
      },
      "source": [
        "2) Create a function that converts a date formatted as MM/DD/YYYY to YYYYDDMM. The input is a string!"
      ]
    },
    {
      "cell_type": "code",
      "metadata": {
        "id": "rTw7At7EkUg0",
        "colab_type": "code",
        "colab": {}
      },
      "source": [
        "import re"
      ],
      "execution_count": null,
      "outputs": []
    },
    {
      "cell_type": "code",
      "metadata": {
        "id": "fzCBog2ljbjW",
        "colab_type": "code",
        "colab": {}
      },
      "source": [
        "def mudaData(date):\n",
        "  x1 = re.split(\"/\",date)\n",
        "  return x1[2] + x1[1] + x1[0]\n"
      ],
      "execution_count": null,
      "outputs": []
    },
    {
      "cell_type": "code",
      "metadata": {
        "id": "GvjEXMgamjSS",
        "colab_type": "code",
        "colab": {}
      },
      "source": [
        "date = '03/23/2014'"
      ],
      "execution_count": null,
      "outputs": []
    },
    {
      "cell_type": "code",
      "metadata": {
        "id": "X96XoyWmmh5W",
        "colab_type": "code",
        "colab": {
          "base_uri": "https://localhost:8080/",
          "height": 35
        },
        "outputId": "9367923e-080b-4c79-9bb1-3604b86d68d5"
      },
      "source": [
        "mudaData(date)"
      ],
      "execution_count": null,
      "outputs": [
        {
          "output_type": "execute_result",
          "data": {
            "application/vnd.google.colaboratory.intrinsic+json": {
              "type": "string"
            },
            "text/plain": [
              "'20142303'"
            ]
          },
          "metadata": {
            "tags": []
          },
          "execution_count": 13
        }
      ]
    },
    {
      "cell_type": "markdown",
      "metadata": {
        "id": "8t4OrSJKjbjY",
        "colab_type": "text"
      },
      "source": [
        "3) A typical car can hold four passengers and one driver, allowing five people to travel around. Given n number of people, `return` how many cars are needed to seat everyone comfortably."
      ]
    },
    {
      "cell_type": "code",
      "metadata": {
        "id": "L8WsUUgcjbjZ",
        "colab_type": "code",
        "colab": {}
      },
      "source": [
        "import math\n",
        "\n",
        "def qtosCarros(n):\n",
        "  return math.ceil(n/5)"
      ],
      "execution_count": null,
      "outputs": []
    },
    {
      "cell_type": "code",
      "metadata": {
        "id": "xy1a5sgjo_zP",
        "colab_type": "code",
        "colab": {
          "base_uri": "https://localhost:8080/",
          "height": 34
        },
        "outputId": "f125d672-52d4-4805-916f-54d989d5ea47"
      },
      "source": [
        "qtosCarros(11)"
      ],
      "execution_count": null,
      "outputs": [
        {
          "output_type": "execute_result",
          "data": {
            "text/plain": [
              "3"
            ]
          },
          "metadata": {
            "tags": []
          },
          "execution_count": 16
        }
      ]
    },
    {
      "cell_type": "markdown",
      "metadata": {
        "id": "ZFlfbF3djbjb",
        "colab_type": "text"
      },
      "source": [
        "4) Create a function that replaces all the vowels in a string with the character '#'."
      ]
    },
    {
      "cell_type": "code",
      "metadata": {
        "id": "7qsIC7Kdjbjd",
        "colab_type": "code",
        "colab": {}
      },
      "source": [
        "def vogais(frase):\n",
        "  return \"\".join(map(lambda x: '#' if x in \"aeiou\" else x, frase))"
      ],
      "execution_count": null,
      "outputs": []
    },
    {
      "cell_type": "code",
      "metadata": {
        "id": "vYfeiSFtr-_j",
        "colab_type": "code",
        "colab": {
          "base_uri": "https://localhost:8080/",
          "height": 35
        },
        "outputId": "5077e220-255f-4e69-d4e9-fb46e3926333"
      },
      "source": [
        "a = 'bom dia'\n",
        "vogais(a)"
      ],
      "execution_count": null,
      "outputs": [
        {
          "output_type": "execute_result",
          "data": {
            "application/vnd.google.colaboratory.intrinsic+json": {
              "type": "string"
            },
            "text/plain": [
              "'b#m d##'"
            ]
          },
          "metadata": {
            "tags": []
          },
          "execution_count": 25
        }
      ]
    },
    {
      "cell_type": "markdown",
      "metadata": {
        "id": "4lFXROtfjbjf",
        "colab_type": "text"
      },
      "source": [
        "5) Write a function that inverts the keys and values of a dictionary."
      ]
    },
    {
      "cell_type": "code",
      "metadata": {
        "id": "H8pphZDDjbjg",
        "colab_type": "code",
        "colab": {}
      },
      "source": [
        "x1 = {'a':1,'b':2,'c':3}"
      ],
      "execution_count": null,
      "outputs": []
    },
    {
      "cell_type": "code",
      "metadata": {
        "id": "fZRwhWbBx9rM",
        "colab_type": "code",
        "colab": {}
      },
      "source": [
        "def invertDict(x1):\n",
        "  return dict(zip(list(x1.values()), list(x1.keys())))"
      ],
      "execution_count": null,
      "outputs": []
    },
    {
      "cell_type": "code",
      "metadata": {
        "id": "OwUJWXGTyJkX",
        "colab_type": "code",
        "colab": {
          "base_uri": "https://localhost:8080/",
          "height": 34
        },
        "outputId": "4c339e5a-ce87-4111-c677-5e9c7d30fc8b"
      },
      "source": [
        "invertDict(x1)"
      ],
      "execution_count": null,
      "outputs": [
        {
          "output_type": "execute_result",
          "data": {
            "text/plain": [
              "{1: 'a', 2: 'b', 3: 'c'}"
            ]
          },
          "metadata": {
            "tags": []
          },
          "execution_count": 36
        }
      ]
    },
    {
      "cell_type": "markdown",
      "metadata": {
        "id": "otGcPAaajbjk",
        "colab_type": "text"
      },
      "source": [
        "6) Create a function that takes a list of strings and return a list, sorted from shortest to longest."
      ]
    },
    {
      "cell_type": "code",
      "metadata": {
        "id": "K163sEK80fj0",
        "colab_type": "code",
        "colab": {}
      },
      "source": [
        "import pandas as pd "
      ],
      "execution_count": null,
      "outputs": []
    },
    {
      "cell_type": "code",
      "metadata": {
        "id": "ovoUzYLe0EgF",
        "colab_type": "code",
        "colab": {}
      },
      "source": [
        "def ordenaLista(xx1):\n",
        "  lst2 = list(map(lambda x: len(x), xx1))\n",
        "  df = pd.DataFrame(list(zip(xx1, lst2)), \n",
        "               columns =['word', 'size']) \n",
        "  df = df.sort_values('size')\n",
        "  return list(df['word'])"
      ],
      "execution_count": 23,
      "outputs": []
    },
    {
      "cell_type": "code",
      "metadata": {
        "id": "7s5O_vqk1ECk",
        "colab_type": "code",
        "colab": {}
      },
      "source": [
        "teste = 'Create a function that returns True if the first list is a subset of the second. Return False otherwise.'.split()\n"
      ],
      "execution_count": 25,
      "outputs": []
    },
    {
      "cell_type": "code",
      "metadata": {
        "id": "C678pnX11UHc",
        "colab_type": "code",
        "colab": {
          "base_uri": "https://localhost:8080/",
          "height": 340
        },
        "outputId": "860c9d1e-203b-4340-bd6a-57f325667fdb"
      },
      "source": [
        "ordenaLista(teste)"
      ],
      "execution_count": 26,
      "outputs": [
        {
          "output_type": "execute_result",
          "data": {
            "text/plain": [
              "['a',\n",
              " 'a',\n",
              " 'if',\n",
              " 'is',\n",
              " 'of',\n",
              " 'the',\n",
              " 'the',\n",
              " 'list',\n",
              " 'that',\n",
              " 'True',\n",
              " 'first',\n",
              " 'False',\n",
              " 'Return',\n",
              " 'Create',\n",
              " 'subset',\n",
              " 'returns',\n",
              " 'second.',\n",
              " 'function',\n",
              " 'otherwise.']"
            ]
          },
          "metadata": {
            "tags": []
          },
          "execution_count": 26
        }
      ]
    },
    {
      "cell_type": "markdown",
      "metadata": {
        "id": "BY1Rz2R1jbjo",
        "colab_type": "text"
      },
      "source": [
        "7) Create a function that returns True if the first list is a subset of the second. Return False otherwise."
      ]
    },
    {
      "cell_type": "code",
      "metadata": {
        "id": "mgukgoY-jbjo",
        "colab_type": "code",
        "colab": {}
      },
      "source": [
        "def dentro(x,y):\n",
        "  return set(x) <= set(y)"
      ],
      "execution_count": 9,
      "outputs": []
    },
    {
      "cell_type": "code",
      "metadata": {
        "id": "xB0bBIPd3xFy",
        "colab_type": "code",
        "colab": {}
      },
      "source": [
        "x = ['1','2']\n",
        "y = ['1','2','3','4','5']\n",
        "x2 = ['5','6']"
      ],
      "execution_count": 2,
      "outputs": []
    },
    {
      "cell_type": "code",
      "metadata": {
        "id": "6spu1tsV39KR",
        "colab_type": "code",
        "colab": {
          "base_uri": "https://localhost:8080/",
          "height": 34
        },
        "outputId": "3ac6b0d6-1960-4e14-8c4a-f95996160cdf"
      },
      "source": [
        "dentro(x,y)"
      ],
      "execution_count": 12,
      "outputs": [
        {
          "output_type": "execute_result",
          "data": {
            "text/plain": [
              "True"
            ]
          },
          "metadata": {
            "tags": []
          },
          "execution_count": 12
        }
      ]
    },
    {
      "cell_type": "markdown",
      "metadata": {
        "id": "ZwMHVJSrjbjr",
        "colab_type": "text"
      },
      "source": [
        "8) Create a function that takes an integer and returns the factorial of that integer. That is, the integer multiplied by all positive lower integers."
      ]
    },
    {
      "cell_type": "code",
      "metadata": {
        "id": "IZSOXXR3jbjr",
        "colab_type": "code",
        "colab": {}
      },
      "source": [
        "def fatorial(numero):\n",
        "  "
      ],
      "execution_count": null,
      "outputs": []
    },
    {
      "cell_type": "markdown",
      "metadata": {
        "id": "u8sQ9fwZjbjt",
        "colab_type": "text"
      },
      "source": [
        "9) Create a function that takes a number as an argument and returns how many times it is multiple of 3."
      ]
    },
    {
      "cell_type": "code",
      "metadata": {
        "id": "LBpqnK1nT5Pl",
        "colab_type": "code",
        "colab": {}
      },
      "source": [
        "import numpy\n",
        "\n",
        "def fatorial(numero):\n",
        "  resultado = numpy.prod(list(range(numero, 0, -1)))\n",
        "  print(resultado)"
      ],
      "execution_count": 19,
      "outputs": []
    },
    {
      "cell_type": "code",
      "metadata": {
        "id": "mtp5Jr46USkN",
        "colab_type": "code",
        "colab": {
          "base_uri": "https://localhost:8080/",
          "height": 34
        },
        "outputId": "2e1194e0-4dfc-46e4-a1fc-8c3df70254b9"
      },
      "source": [
        "fatorial(4)"
      ],
      "execution_count": 21,
      "outputs": [
        {
          "output_type": "stream",
          "text": [
            "24\n"
          ],
          "name": "stdout"
        }
      ]
    },
    {
      "cell_type": "markdown",
      "metadata": {
        "id": "8_brxWMmjbjw",
        "colab_type": "text"
      },
      "source": [
        "10) Create a function that sorts a list and removes all duplicate items from it. (Don't use 'set')"
      ]
    },
    {
      "cell_type": "code",
      "metadata": {
        "id": "uc6YBs_Qjbjw",
        "colab_type": "code",
        "colab": {}
      },
      "source": [
        "def ordenaUnico(x):\n",
        "  lista = list(dict.fromkeys(x))\n",
        "  lista.sort()\n",
        "  print(lista)\n",
        "  "
      ],
      "execution_count": 58,
      "outputs": []
    },
    {
      "cell_type": "code",
      "metadata": {
        "id": "Oxg1tB_vVs9E",
        "colab_type": "code",
        "colab": {
          "base_uri": "https://localhost:8080/",
          "height": 34
        },
        "outputId": "4602816d-ce45-4fa0-edbc-1e712355b66a"
      },
      "source": [
        "teste = 'create and and and oi oi dia dia dia integers'.split()\n",
        "teste"
      ],
      "execution_count": 59,
      "outputs": [
        {
          "output_type": "execute_result",
          "data": {
            "text/plain": [
              "['create', 'and', 'and', 'and', 'oi', 'oi', 'dia', 'dia', 'dia', 'integers']"
            ]
          },
          "metadata": {
            "tags": []
          },
          "execution_count": 59
        }
      ]
    },
    {
      "cell_type": "code",
      "metadata": {
        "id": "NQ3fA5INWDOV",
        "colab_type": "code",
        "colab": {
          "base_uri": "https://localhost:8080/",
          "height": 34
        },
        "outputId": "91c54580-ba97-4ebb-a5a3-c2cdc91833cc"
      },
      "source": [
        "ordenaUnico(teste)"
      ],
      "execution_count": 60,
      "outputs": [
        {
          "output_type": "stream",
          "text": [
            "['and', 'create', 'dia', 'integers', 'oi']\n"
          ],
          "name": "stdout"
        }
      ]
    }
  ]
}